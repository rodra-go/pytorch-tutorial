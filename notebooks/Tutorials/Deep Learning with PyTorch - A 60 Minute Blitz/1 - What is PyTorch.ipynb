{
 "cells": [
  {
   "cell_type": "markdown",
   "metadata": {},
   "source": [
    "# [Tutorial Link](https://pytorch.org/tutorials/beginner/blitz/tensor_tutorial.html)"
   ]
  },
  {
   "cell_type": "code",
   "execution_count": 1,
   "metadata": {},
   "outputs": [],
   "source": [
    "from __future__ import print_function\n",
    "import torch"
   ]
  },
  {
   "cell_type": "code",
   "execution_count": 2,
   "metadata": {},
   "outputs": [
    {
     "name": "stdout",
     "output_type": "stream",
     "text": [
      "tensor([[7.5563e+31, 1.8014e+25, 8.1335e+32],\n",
      "        [7.2436e+22, 7.5554e+28, 2.9635e+29],\n",
      "        [2.2087e+03, 2.9386e+29, 7.1104e-04],\n",
      "        [1.3556e-19, 1.8567e-01, 2.1017e-19],\n",
      "        [7.5553e+28, 5.2839e-11, 7.5018e+28]])\n"
     ]
    }
   ],
   "source": [
    "x = torch.empty(5, 3)\n",
    "print(x)"
   ]
  },
  {
   "cell_type": "code",
   "execution_count": 3,
   "metadata": {},
   "outputs": [
    {
     "name": "stdout",
     "output_type": "stream",
     "text": [
      "tensor([[0.6080, 0.4230, 0.7691],\n",
      "        [0.9935, 0.4115, 0.6263],\n",
      "        [0.9735, 0.7888, 0.4551],\n",
      "        [0.0337, 0.5336, 0.4262],\n",
      "        [0.1783, 0.0810, 0.5809]])\n"
     ]
    }
   ],
   "source": [
    "x = torch.rand(5, 3)\n",
    "print(x)"
   ]
  },
  {
   "cell_type": "code",
   "execution_count": 4,
   "metadata": {},
   "outputs": [
    {
     "name": "stdout",
     "output_type": "stream",
     "text": [
      "tensor([[0, 0, 0],\n",
      "        [0, 0, 0],\n",
      "        [0, 0, 0],\n",
      "        [0, 0, 0],\n",
      "        [0, 0, 0]])\n"
     ]
    }
   ],
   "source": [
    "x = torch.zeros(5, 3, dtype=torch.long)\n",
    "print(x)"
   ]
  },
  {
   "cell_type": "code",
   "execution_count": 3,
   "metadata": {},
   "outputs": [
    {
     "name": "stdout",
     "output_type": "stream",
     "text": [
      "tensor([5.5000, 3.0000])\n"
     ]
    }
   ],
   "source": [
    "x = torch.tensor([5.5, 3])\n",
    "print(x)"
   ]
  },
  {
   "cell_type": "code",
   "execution_count": 4,
   "metadata": {},
   "outputs": [
    {
     "name": "stdout",
     "output_type": "stream",
     "text": [
      "tensor([[1., 1., 1.],\n",
      "        [1., 1., 1.],\n",
      "        [1., 1., 1.],\n",
      "        [1., 1., 1.],\n",
      "        [1., 1., 1.]], dtype=torch.float64)\n",
      "tensor([[-0.4545,  1.0206, -0.5352],\n",
      "        [-0.8543, -0.6690,  1.0146],\n",
      "        [-0.5899, -0.3079,  0.0666],\n",
      "        [-1.5506,  2.0959, -1.3041],\n",
      "        [-0.0212,  0.3484,  0.4389]])\n"
     ]
    }
   ],
   "source": [
    "x = x.new_ones(5, 3, dtype=torch.double)      # new_* methods take in sizes\n",
    "print(x)\n",
    "\n",
    "x = torch.randn_like(x, dtype=torch.float)    # override dtype!\n",
    "print(x)   "
   ]
  },
  {
   "cell_type": "code",
   "execution_count": 5,
   "metadata": {},
   "outputs": [
    {
     "name": "stdout",
     "output_type": "stream",
     "text": [
      "torch.Size([5, 3])\n"
     ]
    }
   ],
   "source": [
    "print(x.size())"
   ]
  },
  {
   "cell_type": "code",
   "execution_count": 6,
   "metadata": {},
   "outputs": [
    {
     "name": "stdout",
     "output_type": "stream",
     "text": [
      "tensor([[-0.2973,  1.2454, -0.3366],\n",
      "        [-0.4525,  0.0906,  2.0088],\n",
      "        [-0.5836,  0.4275,  0.0787],\n",
      "        [-0.8299,  2.8192, -0.3057],\n",
      "        [ 0.4022,  1.2608,  0.5051]])\n"
     ]
    }
   ],
   "source": [
    "y = torch.rand(5, 3)\n",
    "print(x + y)"
   ]
  },
  {
   "cell_type": "code",
   "execution_count": 7,
   "metadata": {},
   "outputs": [
    {
     "name": "stdout",
     "output_type": "stream",
     "text": [
      "tensor([[-0.2973,  1.2454, -0.3366],\n",
      "        [-0.4525,  0.0906,  2.0088],\n",
      "        [-0.5836,  0.4275,  0.0787],\n",
      "        [-0.8299,  2.8192, -0.3057],\n",
      "        [ 0.4022,  1.2608,  0.5051]])\n"
     ]
    }
   ],
   "source": [
    "print(torch.add(x, y))"
   ]
  },
  {
   "cell_type": "code",
   "execution_count": 8,
   "metadata": {},
   "outputs": [
    {
     "name": "stdout",
     "output_type": "stream",
     "text": [
      "tensor([[-0.2973,  1.2454, -0.3366],\n",
      "        [-0.4525,  0.0906,  2.0088],\n",
      "        [-0.5836,  0.4275,  0.0787],\n",
      "        [-0.8299,  2.8192, -0.3057],\n",
      "        [ 0.4022,  1.2608,  0.5051]])\n"
     ]
    }
   ],
   "source": [
    "result = torch.empty(5, 3)\n",
    "torch.add(x, y, out=result)\n",
    "print(result)"
   ]
  }
 ],
 "metadata": {
  "kernelspec": {
   "display_name": "Python 3",
   "language": "python",
   "name": "python3"
  },
  "language_info": {
   "codemirror_mode": {
    "name": "ipython",
    "version": 3
   },
   "file_extension": ".py",
   "mimetype": "text/x-python",
   "name": "python",
   "nbconvert_exporter": "python",
   "pygments_lexer": "ipython3",
   "version": "3.7.6"
  }
 },
 "nbformat": 4,
 "nbformat_minor": 4
}
